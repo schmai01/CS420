{
 "cells": [
  {
   "cell_type": "markdown",
   "metadata": {},
   "source": [
    "# Support Vector Machine\n",
    "\n",
    "![http://docs.opencv.org/_images/optimal-hyperplane.png](http://docs.opencv.org/_images/optimal-hyperplane.png)\n",
    "\n"
   ]
  },
  {
   "cell_type": "markdown",
   "metadata": {},
   "source": [
    "They are an evolved form of the Perceptron.\n",
    "\n",
    "See this link:  http://www.tristanfletcher.co.uk/SVM%20Explained.pdf  for a nice paper (first 10 pages) that goes into the math.  Also here for the scikit-learn page:  http://scikit-learn.org/stable/modules/svm.html#kernel-functions\n",
    "\n",
    "\n"
   ]
  },
  {
   "cell_type": "code",
   "execution_count": 1,
   "metadata": {
    "collapsed": false
   },
   "outputs": [],
   "source": [
    "%matplotlib inline\n",
    "import pandas as pd\n",
    "import numpy as np\n",
    "import matplotlib.pyplot as plt\n",
    "\n",
    "from sklearn.linear_model import Perceptron\n",
    "from sklearn.svm import SVC\n",
    "from sklearn.cross_validation import train_test_split\n",
    "from sklearn.metrics import confusion_matrix, classification_report\n",
    "\n",
    "import warnings\n",
    "warnings.filterwarnings('ignore')"
   ]
  },
  {
   "cell_type": "code",
   "execution_count": 2,
   "metadata": {
    "collapsed": false
   },
   "outputs": [],
   "source": [
    "df = pd.read_csv('mystery.csv',header=None)\n",
    "mdata = df[[0,1]].values\n",
    "cats = df[2].values\n",
    "\n",
    "Xtrain, Xtest, Ctrain, Ctest = train_test_split(mdata, cats)"
   ]
  },
  {
   "cell_type": "code",
   "execution_count": 3,
   "metadata": {
    "collapsed": false
   },
   "outputs": [
    {
     "data": {
      "text/plain": [
       "SVC(C=1.0, cache_size=200, class_weight=None, coef0=0.0, degree=3, gamma=0.0,\n",
       "  kernel='rbf', max_iter=-1, probability=False, random_state=None,\n",
       "  shrinking=True, tol=0.001, verbose=False)"
      ]
     },
     "execution_count": 3,
     "metadata": {},
     "output_type": "execute_result"
    }
   ],
   "source": [
    "classifier = SVC()\n",
    "classifier.fit(Xtrain,Ctrain)"
   ]
  },
  {
   "cell_type": "code",
   "execution_count": null,
   "metadata": {
    "collapsed": true
   },
   "outputs": [],
   "source": []
  },
  {
   "cell_type": "code",
   "execution_count": 4,
   "metadata": {
    "collapsed": false
   },
   "outputs": [
    {
     "name": "stdout",
     "output_type": "stream",
     "text": [
      "             precision    recall  f1-score   support\n",
      "\n",
      "         -1       1.00      0.96      0.98        24\n",
      "          1       0.96      1.00      0.98        26\n",
      "\n",
      "avg / total       0.98      0.98      0.98        50\n",
      "\n"
     ]
    }
   ],
   "source": [
    "Cpred = classifier.predict(Xtest)\n",
    "print(classification_report(Ctest,Cpred))"
   ]
  },
  {
   "cell_type": "markdown",
   "metadata": {},
   "source": [
    "## Compare the performance of the Perceptron and the SVM on the iris and digits data"
   ]
  },
  {
   "cell_type": "code",
   "execution_count": 26,
   "metadata": {
    "collapsed": false
   },
   "outputs": [
    {
     "name": "stdout",
     "output_type": "stream",
     "text": [
      "Iris with perceptron\n",
      "\n",
      "             precision    recall  f1-score   support\n",
      "\n",
      "     setosa       0.52      0.92      0.67        13\n",
      " versicolor       0.80      0.31      0.44        13\n",
      "  virginica       1.00      0.83      0.91        12\n",
      "\n",
      "avg / total       0.77      0.68      0.67        38\n",
      "\n",
      "[[12  1  0]\n",
      " [ 9  4  0]\n",
      " [ 2  0 10]]\n",
      "Digits with perceptron\n",
      "\n",
      "             precision    recall  f1-score   support\n",
      "\n",
      "          0       0.98      1.00      0.99        42\n",
      "          1       0.95      0.85      0.90        62\n",
      "          2       0.92      1.00      0.96        35\n",
      "          3       0.94      0.96      0.95        48\n",
      "          4       0.95      0.98      0.96        42\n",
      "          5       0.98      0.91      0.94        46\n",
      "          6       0.89      1.00      0.94        42\n",
      "          7       0.98      0.98      0.98        42\n",
      "          8       0.90      0.88      0.89        41\n",
      "          9       0.96      0.94      0.95        50\n",
      "\n",
      "avg / total       0.95      0.94      0.94       450\n",
      "\n",
      "[[42  0  0  0  0  0  0  0  0  0]\n",
      " [ 0 53  0  1  1  0  3  0  3  1]\n",
      " [ 0  0 35  0  0  0  0  0  0  0]\n",
      " [ 0  0  1 46  0  1  0  0  0  0]\n",
      " [ 0  0  0  0 41  0  1  0  0  0]\n",
      " [ 1  2  0  0  0 42  1  0  0  0]\n",
      " [ 0  0  0  0  0  0 42  0  0  0]\n",
      " [ 0  0  0  0  0  0  0 41  0  1]\n",
      " [ 0  1  2  1  1  0  0  0 36  0]\n",
      " [ 0  0  0  1  0  0  0  1  1 47]]\n",
      "Iris with SVM\n",
      "\n",
      "             precision    recall  f1-score   support\n",
      "\n",
      "     setosa       1.00      1.00      1.00        13\n",
      " versicolor       1.00      1.00      1.00        13\n",
      "  virginica       1.00      1.00      1.00        12\n",
      "\n",
      "avg / total       1.00      1.00      1.00        38\n",
      "\n",
      "[[13  0  0]\n",
      " [ 0 13  0]\n",
      " [ 0  0 12]]\n",
      "Digits with SVM\n",
      "\n",
      "             precision    recall  f1-score   support\n",
      "\n",
      "          0       1.00      1.00      1.00        42\n",
      "          1       1.00      1.00      1.00        62\n",
      "          2       0.97      1.00      0.99        35\n",
      "          3       1.00      0.94      0.97        48\n",
      "          4       1.00      1.00      1.00        42\n",
      "          5       0.96      0.93      0.95        46\n",
      "          6       0.98      1.00      0.99        42\n",
      "          7       1.00      0.98      0.99        42\n",
      "          8       1.00      1.00      1.00        41\n",
      "          9       0.94      1.00      0.97        50\n",
      "\n",
      "avg / total       0.98      0.98      0.98       450\n",
      "\n",
      "[[42  0  0  0  0  0  0  0  0  0]\n",
      " [ 0 62  0  0  0  0  0  0  0  0]\n",
      " [ 0  0 35  0  0  0  0  0  0  0]\n",
      " [ 0  0  1 45  0  2  0  0  0  0]\n",
      " [ 0  0  0  0 42  0  0  0  0  0]\n",
      " [ 0  0  0  0  0 43  1  0  0  2]\n",
      " [ 0  0  0  0  0  0 42  0  0  0]\n",
      " [ 0  0  0  0  0  0  0 41  0  1]\n",
      " [ 0  0  0  0  0  0  0  0 41  0]\n",
      " [ 0  0  0  0  0  0  0  0  0 50]]\n"
     ]
    }
   ],
   "source": [
    "from sklearn import datasets\n",
    "\n",
    "iris = datasets.load_iris()\n",
    "digits = datasets.load_digits()\n",
    "\n",
    "ix, iy = iris.data, iris.target\n",
    "dx, dy = digits.data, digits.target\n",
    "\n",
    "ixtrain, ixtest, iytrain, iytest = train_test_split(ix, iy)\n",
    "dxtrain, dxtest, dytrain, dytest = train_test_split(dx, dy)\n",
    "\n",
    "thinker1 = Perceptron(n_iter=10000)\n",
    "thinker2 = Perceptron(n_iter=10000)\n",
    "\n",
    "thinker1.fit(ixtrain, iytrain)\n",
    "thinker2.fit(dxtrain, dytrain)\n",
    "\n",
    "betterthinker1 = SVC(kernel='poly')\n",
    "betterthinker2 = SVC(kernel='poly')\n",
    "\n",
    "betterthinker1.fit(ixtrain, iytrain)\n",
    "betterthinker2.fit(dxtrain, dytrain)\n",
    "\n",
    "result1 = thinker1.predict(ixtest)\n",
    "result2 = thinker2.predict(dxtest)\n",
    "result3 = betterthinker1.predict(ixtest)\n",
    "result4 = betterthinker2.predict(dxtest)\n",
    "\n",
    "print(\"Iris with perceptron\\n\")\n",
    "print(classification_report(iytest, result1, target_names = iris.target_names))\n",
    "print(confusion_matrix(iytest, result1))\n",
    "print(\"Digits with perceptron\\n\")\n",
    "print(classification_report(dytest, result2))\n",
    "print(confusion_matrix(dytest, result2))\n",
    "print(\"Iris with SVM\\n\")\n",
    "print(classification_report(iytest, result3, target_names = iris.target_names))\n",
    "print(confusion_matrix(iytest, result3))\n",
    "print(\"Digits with SVM\\n\")\n",
    "print(classification_report(dytest, result4))\n",
    "print(confusion_matrix(dytest, result4))"
   ]
  },
  {
   "cell_type": "code",
   "execution_count": null,
   "metadata": {
    "collapsed": true
   },
   "outputs": [],
   "source": []
  },
  {
   "cell_type": "code",
   "execution_count": null,
   "metadata": {
    "collapsed": true
   },
   "outputs": [],
   "source": []
  }
 ],
 "metadata": {
  "kernelspec": {
   "display_name": "Python 3",
   "language": "python",
   "name": "python3"
  },
  "language_info": {
   "codemirror_mode": {
    "name": "ipython",
    "version": 3
   },
   "file_extension": ".py",
   "mimetype": "text/x-python",
   "name": "python",
   "nbconvert_exporter": "python",
   "pygments_lexer": "ipython3",
   "version": "3.4.0"
  }
 },
 "nbformat": 4,
 "nbformat_minor": 0
}
