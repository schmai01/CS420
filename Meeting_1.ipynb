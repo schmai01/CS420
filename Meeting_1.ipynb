{
 "cells": [
  {
   "cell_type": "markdown",
   "metadata": {},
   "source": [
    "# Meeting 1 - Thursday Sept. 3\n",
    "\n",
    "## Goals\n",
    "\n",
    "* Do Syllabus stuff\n",
    "* Have everyone try Jupyter on knuth -- check the load\n",
    "  * It will complain about an invalid certificate, We can fix that.\n",
    "* Walk through the install process for your own machine\n",
    "* Do the [xkcd survey](http://xkcd.com)\n",
    "* Introduce Jupyter, and Pandas\n",
    "\n",
    "\n",
    "## Assignment for Tuesday\n",
    "\n",
    "* Get the notebooks from the github repo referenced in [Brandon Rhodes - Pandas from the Ground Up](https://www.youtube.com/watch?v=5JnMutdy6Fw) -- Not the Solutions! Watch the first 30 minutes or so.  Can FF the first 10.\n",
    "\n",
    "* `git clone git@github.com:brandon-rhodes/pycon-pandas-tutorial.git` or\n",
    "* `git clone https://github.com/brandon-rhodes/pycon-pandas-tutorial.git`  I strongly recommend you setup a public/private key pair for your github account."
   ]
  },
  {
   "cell_type": "code",
   "execution_count": 1,
   "metadata": {
    "collapsed": true
   },
   "outputs": [],
   "source": [
    "# A template for all your notebooks\n",
    "%matplotlib inline\n",
    "import pandas as pd\n",
    "import numpy as np\n",
    "import matplotlib.pyplot as plt\n",
    "import seaborn as sbn\n",
    "sbn.set()\n"
   ]
  },
  {
   "cell_type": "markdown",
   "metadata": {
    "collapsed": true
   },
   "source": [
    "# Basic Pandas Dataframe methods\n",
    "\n",
    "* len(df)       \n",
    "* df.head()     \n",
    "* df.tail()    \n",
    "* df.COLUMN     \n",
    "* df['COLUMN']  \n",
    "* series + value    \n",
    "* series + series2  \n",
    "* series.notnull()  \n",
    "* series.isnull()   \n",
    "* series.order()  \n",
    "* df.convert_objects()\n",
    "* df[df.c == value]\n",
    "* df[(df.c >= value) & (df.d < value)]\n",
    "* df[(df.c < value) | (df.d != value)]\n",
    "* df.sort('column')\n",
    "* df.sort(['column1', 'column2'])"
   ]
  }
 ],
 "metadata": {
  "kernelspec": {
   "display_name": "Python 3",
   "language": "python",
   "name": "python3"
  },
  "language_info": {
   "codemirror_mode": {
    "name": "ipython",
    "version": 3
   },
   "file_extension": ".py",
   "mimetype": "text/x-python",
   "name": "python",
   "nbconvert_exporter": "python",
   "pygments_lexer": "ipython3",
   "version": "3.4.0"
  }
 },
 "nbformat": 4,
 "nbformat_minor": 0
}
