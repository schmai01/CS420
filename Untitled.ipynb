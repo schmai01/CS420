{
 "cells": [
  {
   "cell_type": "code",
   "execution_count": 1,
   "metadata": {
    "collapsed": false
   },
   "outputs": [
    {
     "name": "stderr",
     "output_type": "stream",
     "text": [
      "/usr/local/lib/python3.4/dist-packages/matplotlib/__init__.py:872: UserWarning: axes.color_cycle is deprecated and replaced with axes.prop_cycle; please use the latter.\n",
      "  warnings.warn(self.msg_depr % (key, alt_key))\n"
     ]
    }
   ],
   "source": [
    "%matplotlib inline\n",
    "import numpy as np\n",
    "import random\n",
    "import pandas as pd\n",
    "import seaborn as sbn\n",
    "sbn.set()\n",
    "import matplotlib.pyplot as plt\n",
    "\n",
    "from sklearn.datasets import fetch_20newsgroups\n",
    "from sklearn.linear_model import Perceptron\n",
    "from sklearn.linear_model import SGDClassifier\n",
    "from sklearn.cross_validation import train_test_split\n",
    "from sklearn.metrics import confusion_matrix, classification_report\n",
    "from sklearn.feature_extraction.stop_words import ENGLISH_STOP_WORDS\n",
    "from sklearn.feature_extraction.text import CountVectorizer\n",
    "from sklearn.feature_extraction.text import TfidfTransformer\n",
    "from sklearn.feature_extraction.text import TfidfVectorizer\n",
    "from sklearn.naive_bayes import GaussianNB\n",
    "from sklearn.svm import LinearSVC\n",
    "from sklearn.pipeline import Pipeline\n",
    "from sklearn.grid_search import GridSearchCV"
   ]
  },
  {
   "cell_type": "code",
   "execution_count": 2,
   "metadata": {
    "collapsed": true
   },
   "outputs": [],
   "source": [
    "#!/usr/bin/python3\n",
    "\"\"\"\n",
    "This class is meant to take a .evn/a file and parse it into usable tables representing player's stats per game.\n",
    "\"\"\"\n",
    "#import sys\n",
    "\n",
    "\n",
    "class Parser:\n",
    "\n",
    "    def __init__(self, file):\n",
    "        self.raw_file = open(file, 'r')\n",
    "        self.games = {}\n",
    "\n",
    "    def parse(self):\n",
    "        game_id = \"\"\n",
    "        old_id = \"\"\n",
    "\n",
    "        for line in self.raw_file:\n",
    "\n",
    "            items = line.split(\",\")\n",
    "\n",
    "            if items[0] == \"id\":\n",
    "                if old_id != \"\":\n",
    "                    hruns = 0\n",
    "                    aruns = 0\n",
    "\n",
    "                    for player, playerdata in self.games[game_id].items():\n",
    "                        if player != \"info\":\n",
    "                            if playerdata[\"team\"] == \"home\":\n",
    "                                hruns += playerdata[\"rbi\"]\n",
    "                            else:\n",
    "                                aruns += playerdata[\"rbi\"]\n",
    "                    self.games[old_id][\"info\"][\"winner\"] = \"home\" if hruns > aruns else \"away\"\n",
    "\n",
    "                old_id = game_id\n",
    "                game_id = items[1].rstrip()\n",
    "                data = {}\n",
    "                self.games[game_id] = data\n",
    "\n",
    "            elif items[0] == \"info\":\n",
    "                if len(self.games[game_id]) == 0:\n",
    "                    self.games[game_id][\"info\"] = ({items[1]: items[2].rstrip()})\n",
    "                else:\n",
    "                    self.games[game_id][\"info\"][items[1]] = items[2].rstrip()\n",
    "\n",
    "            elif items[0] == \"start\" or items[0] == \"sub\":\n",
    "                position = \"pitcher\" if items[5] == \"1\" else \"batter\"\n",
    "                team = \"home\" if items[3] == \"1\" else \"away\"\n",
    "                playerdict = self.games[game_id][items[1]] = {}\n",
    "                playerdict[\"pos\"] = position\n",
    "                playerdict[\"team\"] = team\n",
    "                playerdict[\"ab\"] = 0\n",
    "                playerdict[\"h\"] = 0\n",
    "                playerdict[\"w\"] = 0\n",
    "                playerdict[\"w\"] = 0\n",
    "                playerdict[\"rbi\"] = 0\n",
    "                playerdict[\"er\"] = 0\n",
    "\n",
    "            elif items[0] == \"play\":\n",
    "\n",
    "                player = items[3]\n",
    "                playerdict = self.games[game_id][player]\n",
    "                play = items[6].rstrip()\n",
    "\n",
    "                #S, D, and T coded this way to allow future calculation of SLG\n",
    "                if play.startswith(\"S\"):\n",
    "                    playerdict[\"ab\"] += 1\n",
    "                    playerdict[\"h\"] += 1\n",
    "                elif play.startswith(\"D\"):\n",
    "                    playerdict[\"ab\"] += 1\n",
    "                    playerdict[\"h\"] += 1\n",
    "                elif play.startswith(\"T\"):\n",
    "                    playerdict[\"ab\"] += 1\n",
    "                    playerdict[\"h\"] += 1\n",
    "                elif play.startswith(\"HR\"):\n",
    "                    playerdict[\"ab\"] += 1\n",
    "                    playerdict[\"h\"] += 1\n",
    "                    playerdict[\"rbi\"] += 1\n",
    "                elif play.startswith(\"W\"):\n",
    "                    playerdict[\"w\"] += 1\n",
    "                else:\n",
    "                    playerdict[\"ab\"] += 1\n",
    "\n",
    "                runner_data = play.split(\";\")\n",
    "                for runner in runner_data:\n",
    "                    if \"-H\" in runner:\n",
    "                        playerdict[\"rbi\"] += 1\n",
    "\n",
    "            elif items[0] == \"data\":\n",
    "                if items[1] == \"er\":\n",
    "                    playerdict = self.games[game_id][items[2]]\n",
    "                    if playerdict[\"er\"] is None:\n",
    "                        playerdict[\"er\"] = 0\n",
    "                    playerdict[\"er\"] += int(items[3].rstrip())\n",
    "            else:  # ignore\n",
    "                pass\n",
    "\n",
    "        return self.games\n",
    "\n",
    "    def make_into_tables(self):\n",
    "        features = []\n",
    "        classifs = []\n",
    "        #data format:\n",
    "        #[AVGh|RBIh|OBPh|AVGa|RBIa|OBPa] -aggregate sums of numbers for both teams\n",
    "\n",
    "        for game_id, game in self.games.items():\n",
    "\n",
    "            homestats = [0] * 3\n",
    "            awaystats = [0] * 3\n",
    "\n",
    "            for player, playerdata in self.games[game_id].items():\n",
    "                if player != \"info\":  # ignore the info entry\n",
    "                    if playerdata[\"pos\"] == \"pitcher\":\n",
    "                        pass  # for now, later possibly add some pitcher stats like ERA, H, W, etc.\n",
    "                    elif playerdata[\"pos\"] == \"batter\":\n",
    "                        avg = 0\n",
    "                        if int(playerdata[\"ab\"]) != 0:\n",
    "                            avg = int(playerdata[\"h\"]) / int(playerdata[\"ab\"])\n",
    "                        rbi = int(playerdata[\"rbi\"])\n",
    "                        obp = 0\n",
    "                        if int(playerdata[\"ab\"]) != 0:\n",
    "                            obp = (int(playerdata[\"w\"]) + int(playerdata[\"h\"])) / int(playerdata[\"ab\"])\n",
    "                        if playerdata[\"team\"] == \"home\":\n",
    "                            homestats[0] += avg\n",
    "                            homestats[1] += rbi\n",
    "                            homestats[2] += obp\n",
    "                        else:\n",
    "                            awaystats[0] += avg\n",
    "                            awaystats[1] += rbi\n",
    "                            awaystats[2] += obp\n",
    "\n",
    "            features.append(homestats + awaystats)\n",
    "            try:\n",
    "                classifs.append(1 if game[\"info\"][\"winner\"] == \"home\" else 0)\n",
    "            except KeyError:\n",
    "                classifs.append(0)\n",
    "\n",
    "        return features, classifs"
   ]
  },
  {
   "cell_type": "code",
   "execution_count": 5,
   "metadata": {
    "collapsed": false
   },
   "outputs": [],
   "source": [
    "parser1 = Parser(\"2013MIN.EVA\")\n",
    "parser1.parse()\n",
    "trainx, trainy = parser1.make_into_tables()\n",
    "\n",
    "parser2 = Parser(\"2014MIN.EVA\")\n",
    "parser2.parse()\n",
    "testx, testy = parser2.make_into_tables()"
   ]
  },
  {
   "cell_type": "code",
   "execution_count": 7,
   "metadata": {
    "collapsed": false
   },
   "outputs": [
    {
     "name": "stdout",
     "output_type": "stream",
     "text": [
      "             precision    recall  f1-score   support\n",
      "\n",
      "          0       0.56      0.79      0.65        47\n",
      "          1       0.33      0.15      0.20        34\n",
      "\n",
      "avg / total       0.47      0.52      0.47        81\n",
      "\n"
     ]
    }
   ],
   "source": [
    "clf = LinearSVC()\n",
    "clf.fit(trainx, trainy)\n",
    "pred = clf.predict(testx)\n",
    "print(classification_report(testy,pred))"
   ]
  },
  {
   "cell_type": "code",
   "execution_count": null,
   "metadata": {
    "collapsed": true
   },
   "outputs": [],
   "source": []
  }
 ],
 "metadata": {
  "kernelspec": {
   "display_name": "Python 3",
   "language": "python",
   "name": "python3"
  },
  "language_info": {
   "codemirror_mode": {
    "name": "ipython",
    "version": 3
   },
   "file_extension": ".py",
   "mimetype": "text/x-python",
   "name": "python",
   "nbconvert_exporter": "python",
   "pygments_lexer": "ipython3",
   "version": "3.4.3"
  }
 },
 "nbformat": 4,
 "nbformat_minor": 0
}
