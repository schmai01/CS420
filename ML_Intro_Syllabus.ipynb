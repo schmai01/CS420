{
 "cells": [
  {
   "cell_type": "markdown",
   "metadata": {},
   "source": [
    "# Machine Learning - Fall 2015\n",
    "\n",
    "> Brad Miller <br />\n",
    "> Olin 321 <br />\n",
    "> bmiller@luther.edu <br />\n",
    "\n",
    "## Disclaimer\n",
    "\n",
    "Data Science, Big Data, whatever you want to call it is one of the most interesting and fastest growing areas of CS.  Machine learning is the pinnacle of our proposal to incorporate data science into the curriculum at Luther College.  This course is going to be an experiement.  We really wanted to teach the course this fall, but the catalog lists a prereq of another course (CS 320) that we have not developed yet.  So.... This course will combine CS320 and 420 into one mashup.\n",
    "\n",
    "Although machine learning is a topic that I have been interested in since I was a Luther student this is not my specialty.\n",
    "\n",
    "* I am not a Machine Learning expert.\n",
    "* I am not a strong mathematician or statistician.\n",
    "* I will undoubtedly make mistakes from time to time. (read daily)\n",
    "\n",
    "I will be learning much of this at the same time as you.  Ideally a few days ahead.\n",
    "\n",
    "\n",
    "## Goals\n",
    "\n",
    "* Explore some tools for data analysis and visualization\n",
    "  * Pandas\n",
    "  * Matplotlib\n",
    "  * seaborn\n",
    "  * maybe ggplot or Bokeh\n",
    "  \n",
    "* Explore tools and algorithms for machine learning\n",
    "  * scikit-learn\n",
    "  * regression linear, non-linear, multiple\n",
    "  * Feature Extraction\n",
    "  * neural networks (perceptron and maybe others)\n",
    "  * Bayesian Learning\n",
    "  * Support Vector Machines\n",
    "  * Clustering \n",
    "  * Principle Components Analysis\n",
    "  * Recommender Systems \n",
    "  * Logistic Regression\n",
    "  * Random Forest\n",
    "\n",
    "* Understand how we can measure the effectiveness of models/algorithms\n",
    "  \n",
    "\n",
    "## Approach\n",
    "\n",
    "Python is one of two big languages used in the Big Data space.  The other is R, which I do not plan to worry about.  So all of the tools we will be using are Python tools and can be used in the context of a Jupyter Notebook (new name for iPython notebook) and Python.\n",
    "\n",
    "I think the most important aspect of this course is to find some interesting data sets to use in trying out the various algorithms.\n",
    "\n",
    "We will start by looking at the tools for visualization and summarization so that we can find ways to visualize and get an overview of the various data sets.\n",
    "\n",
    "Next we will look at using the machine learning components supplied by scikit-learn.  As we go along and explore the various algorithms we will try to understand how they work without going into super detailed mathematical excursions.\n",
    "\n",
    "\n",
    "## Resources\n",
    "\n",
    "A nice book, which I will likely follow fairly closely with respect to the machine learning algorithms is *Mastering Machine Learning with Sci-kit Learn*  Its short and to the point, without getting bogged down in the math.\n",
    "\n",
    "I will also be referencing a number of tutorials and/or posts online that do case studies of particular machine learning problems.\n",
    "\n",
    "I have set up a Jupyter server on knuth.  You can access the server by logging in, this allows you to have a private copy of any of the projects we work on in the course using knuth as your compute server.   You may also choose to setup your own ipython notebook environment.  I have put a requirements.txt file on github you can install all of the packages you need using `pip install -r requirements.txt`\n",
    "\n",
    "I have created a [github repository](https://github.com/bnmnetp/CS420) so that you can clone it and get examples and class notes.\n",
    "\n",
    "## Grading and Assignments\n",
    "\n",
    "I will (reluctantly) be returning to using Katie, at least for making assignments and keeping track of grades.\n",
    "\n",
    "We will have regular homework assignments as well as many in-class labs.  Towards the end of the semester I am hoping we can do a larger project.\n",
    "\n",
    "Because this class is experimental I am not sure I am ready to commit to creating exams.  Therefore your grade will be based on homework assignments, in-class labs, and the project.\n",
    "\n",
    "\n",
    "## Writing Lab\n",
    "\n",
    "This class is eligible for the writing lab component of the CS major.\n"
   ]
  },
  {
   "cell_type": "markdown",
   "metadata": {
    "collapsed": true
   },
   "source": [
    "#### Week of Sept 3\n",
    "\n",
    "* Intro to the course\n",
    "* Introduction to jupyter and notebook\n",
    "* Introduction to pandas and data frames\n",
    "\n",
    "* [Brandon Rhodes - Pandas from the Ground Up](https://www.youtube.com/watch?v=5JnMutdy6Fw)\n",
    "* [ipython Notebook cheatsheet](http://nbviewer.ipython.org/github/pybokeh/ipython_notebooks/blob/master/pandas/PandasCheatSheet.ipynb#options)\n",
    "* [important features in Pandas](http://nbviewer.ipython.org/urls/gist.github.com/wesm/4757075/raw/a72d3450ad4924d0e74fb57c9f62d1d895ea4574/PandasTour.ipynb)"
   ]
  },
  {
   "cell_type": "markdown",
   "metadata": {
    "collapsed": true
   },
   "source": [
    "#### Week of Sept 8\n",
    "\n",
    "* Pandas Filtering Operations\n",
    "* Pandas aggregate statistical operations\n",
    "* Pandas grouping operations\n",
    "* Plotting with Pandas, matplotlib, and seaborn\n",
    "* [Seaborn Tutorial](http://stanford.edu/~mwaskom/software/seaborn/tutorial.html)\n"
   ]
  },
  {
   "cell_type": "markdown",
   "metadata": {
    "collapsed": true
   },
   "source": [
    "#### Week of Sept 15\n",
    "\n",
    "* Answering harder questions with Pandas\n",
    "* Cleaning up data\n"
   ]
  },
  {
   "cell_type": "markdown",
   "metadata": {
    "collapsed": true
   },
   "source": [
    "#### Week of Sept 22\n",
    "\n",
    "* Machine Learning Overview with scikit-learn\n",
    "* First half of https://www.youtube.com/watch?v=L7R4HUQ-eQ0\n"
   ]
  },
  {
   "cell_type": "markdown",
   "metadata": {},
   "source": [
    "#### Week of Sept 29\n",
    "\n",
    "* Regression and Multiple Regression"
   ]
  },
  {
   "cell_type": "markdown",
   "metadata": {},
   "source": [
    "#### Week of October 6\n",
    "\n",
    "* Measuring the success of your algorithms\n",
    "\n",
    "  * Training and Test data\n",
    "  * MAE\n",
    "  * ROC \n",
    "  * Confusion Matrix\n",
    "  \n"
   ]
  },
  {
   "cell_type": "markdown",
   "metadata": {},
   "source": [
    "#### Week of October 15\n",
    "\n",
    "* Recommender Systems \n",
    "  \n",
    "  - collaborative filtering\n",
    "  - shopping cart cooccurence \n",
    "\n"
   ]
  },
  {
   "cell_type": "markdown",
   "metadata": {
    "collapsed": true
   },
   "source": [
    "#### Week of October 20\n",
    "\n",
    "* Bayseian Learning - spam filtering\n"
   ]
  },
  {
   "cell_type": "markdown",
   "metadata": {},
   "source": [
    "#### Week of October 27\n",
    "\n",
    "* Classifying with Neural Networks\n",
    "\n",
    "  - Perceptrons\n",
    "  - Others?\n"
   ]
  },
  {
   "cell_type": "markdown",
   "metadata": {},
   "source": [
    "#### Week of November 3\n",
    "\n",
    "* Support Vector Machines\n",
    "* Decision Trees / Random Forests"
   ]
  },
  {
   "cell_type": "markdown",
   "metadata": {},
   "source": [
    "#### Week of November 10\n",
    "\n",
    "* Clustering\n",
    "  * k-means\n",
    "\n"
   ]
  },
  {
   "cell_type": "markdown",
   "metadata": {},
   "source": [
    "#### Week of November 17\n",
    "\n",
    "* Dimensionality Reduction\n",
    "* Principle Components Analysis\n"
   ]
  },
  {
   "cell_type": "markdown",
   "metadata": {},
   "source": [
    "#### Week of November 24\n",
    "\n",
    "* Thanksgiving - No class Thursday"
   ]
  },
  {
   "cell_type": "markdown",
   "metadata": {},
   "source": [
    "#### Week of December  1\n",
    "\n",
    "* Item Response Theory\n"
   ]
  },
  {
   "cell_type": "markdown",
   "metadata": {},
   "source": [
    "#### Week of December 8  -- last week"
   ]
  },
  {
   "cell_type": "markdown",
   "metadata": {},
   "source": [
    "#### Week of December 14 -- Finals\n"
   ]
  },
  {
   "cell_type": "code",
   "execution_count": null,
   "metadata": {
    "collapsed": true
   },
   "outputs": [],
   "source": []
  },
  {
   "cell_type": "code",
   "execution_count": null,
   "metadata": {
    "collapsed": true
   },
   "outputs": [],
   "source": []
  },
  {
   "cell_type": "code",
   "execution_count": null,
   "metadata": {
    "collapsed": true
   },
   "outputs": [],
   "source": []
  }
 ],
 "metadata": {
  "kernelspec": {
   "display_name": "Python 3",
   "language": "python",
   "name": "python3"
  },
  "language_info": {
   "codemirror_mode": {
    "name": "ipython",
    "version": 3
   },
   "file_extension": ".py",
   "mimetype": "text/x-python",
   "name": "python",
   "nbconvert_exporter": "python",
   "pygments_lexer": "ipython3",
   "version": "3.4.0"
  }
 },
 "nbformat": 4,
 "nbformat_minor": 0
}
