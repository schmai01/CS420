{
 "cells": [
  {
   "cell_type": "markdown",
   "metadata": {},
   "source": [
    "# Weather Data"
   ]
  },
  {
   "cell_type": "markdown",
   "metadata": {},
   "source": [
    "Today's exercise centers around 120 years of weather data for Decorah.  We have data for each day from 2013 back to 1893 or so. The weather data includes the following information:\n",
    "\n",
    "1.  Daily high temperatures  (shtmax*.txt)\n",
    "2.  Daily low temperatures (shtmin*.txt)\n",
    "3.  Daily precipitation (shtpre*.txt)\n",
    "4.  Daily snowfall (shtsno*.txt)\n",
    "\n",
    "\n",
    "You should work in groups of two or three.\n",
    "\n",
    "\n"
   ]
  },
  {
   "cell_type": "markdown",
   "metadata": {},
   "source": [
    "## Step 1\n",
    "\n",
    "Brainstorm some questions about the weather that you would like to answer  -- We'll share these as a class and pick some questions.  I will record them here.\n",
    "\n",
    "Brainstorm some graphical ways of viewing the data that would be useful\n",
    "\n",
    "\n",
    "* Average high and low for the day and find change from previous day.  Check to see if that correlates with precipitation.\n",
    "\n",
    "* Which years had white christmases?  or not\n",
    "\n",
    "* Have a line plot of highs and lows (average per year) to see the trend\n",
    "\n",
    "* Look for extreme outliers of precipitation snow in august/rain in january\n",
    "\n",
    "* For each year how much precip is due to snowfall \n",
    "\n",
    "* which saturdays in the summer months have the least amount of rain\n",
    "\n",
    "* Isolate large storms by looking for consecutive days of rain\n",
    "\n",
    "* find periods of drought \n",
    "\n",
    "* Day of maximum difference between high and low\n",
    "\n",
    "* Day with most rainfall\n",
    "\n",
    "* Hottest/coldest day in record\n",
    "\n"
   ]
  },
  {
   "cell_type": "markdown",
   "metadata": {},
   "source": [
    "## Step 2\n",
    "\n",
    "You can download the weather data from github, or grab the tar file from ~millbr02/pub/weather.tar\n",
    "\n",
    "You will need to load/transform the weather data.  You will need to combine the monthly data files into a single dataframe.  (http://pandas.pydata.org/pandas-docs/stable/merging.html)\n",
    "\n"
   ]
  },
  {
   "cell_type": "markdown",
   "metadata": {},
   "source": [
    "## Step 3\n",
    "\n",
    "Implement solutions to answer the questions and visualize the data"
   ]
  }
 ],
 "metadata": {
  "kernelspec": {
   "display_name": "Python 3",
   "language": "python",
   "name": "python3"
  },
  "language_info": {
   "codemirror_mode": {
    "name": "ipython",
    "version": 3
   },
   "file_extension": ".py",
   "mimetype": "text/x-python",
   "name": "python",
   "nbconvert_exporter": "python",
   "pygments_lexer": "ipython3",
   "version": "3.4.0"
  }
 },
 "nbformat": 4,
 "nbformat_minor": 0
}
