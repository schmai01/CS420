{
 "cells": [
  {
   "cell_type": "code",
   "execution_count": 1,
   "metadata": {
    "collapsed": true
   },
   "outputs": [],
   "source": [
    "%matplotlib inline\n",
    "import numpy as np\n",
    "import random\n",
    "import pandas as pd\n",
    "import seaborn as sbn\n",
    "sbn.set()\n",
    "import matplotlib.pyplot as plt"
   ]
  },
  {
   "cell_type": "code",
   "execution_count": 2,
   "metadata": {
    "collapsed": false
   },
   "outputs": [
    {
     "name": "stdout",
     "output_type": "stream",
     "text": [
      "Keys =  dict_keys(['target', 'data', 'feature_names', 'DESCR', 'target_names'])\n",
      "['setosa']\n",
      "             precision    recall  f1-score   support\n",
      "\n",
      "     setosa       1.00      1.00      1.00        10\n",
      " versicolor       0.93      1.00      0.97        14\n",
      "  virginica       1.00      0.93      0.96        14\n",
      "\n",
      "avg / total       0.98      0.97      0.97        38\n",
      "\n"
     ]
    }
   ],
   "source": [
    "from sklearn import datasets\n",
    "from sklearn.linear_model import Perceptron\n",
    "from sklearn.cross_validation import train_test_split\n",
    "from sklearn.metrics import confusion_matrix, classification_report\n",
    "\n",
    "iris = datasets.load_iris()\n",
    "print(\"Keys = \", iris.keys())\n",
    "x,y = iris.data, iris.target\n",
    "xtrain, xtest, ytrain, ytest = train_test_split(x, y)\n",
    "\n",
    "#instantiate perceptron\n",
    "sss = Perceptron(n_iter=1000)\n",
    "\n",
    "#train perceptron\n",
    "sss.fit(xtrain, ytrain)\n",
    "\n",
    "#classify data\n",
    "result = sss.predict([[3,5,4,2]])\n",
    "print(iris.target_names[result])\n",
    "\n",
    "ypred = sss.predict(xtest)\n",
    "print(classification_report(ytest, ypred, target_names = iris.target_names))"
   ]
  },
  {
   "cell_type": "code",
   "execution_count": 51,
   "metadata": {
    "collapsed": false
   },
   "outputs": [
    {
     "name": "stdout",
     "output_type": "stream",
     "text": [
      "[[12  0  0]\n",
      " [ 0 12  1]\n",
      " [ 0  0 13]]\n",
      "['setosa' 'versicolor' 'virginica']\n"
     ]
    },
    {
     "data": {
      "text/plain": [
       "<matplotlib.text.Text at 0x7f7bdd9e75c0>"
      ]
     },
     "execution_count": 51,
     "metadata": {},
     "output_type": "execute_result"
    },
    {
     "data": {
      "image/png": "[encoded data removed]",
      "text/plain": [
       "<matplotlib.figure.Figure at 0x7f7bacc0ef28>"
      ]
     },
     "metadata": {},
     "output_type": "display_data"
    }
   ],
   "source": [
    "ypred = sss.predict(xtest)\n",
    "print(confusion_matrix(ytest, ypred))\n",
    "print(iris.target_names)\n",
    "plt.imshow(np.log(confusion_matrix(ytest, ypred)), cmap = 'Blues', interpolation = 'nearest')\n",
    "plt.grid(False)\n",
    "plt.ylabel('true')\n",
    "plt.xlabel('predicted')"
   ]
  },
  {
   "cell_type": "code",
   "execution_count": 188,
   "metadata": {
    "collapsed": false
   },
   "outputs": [
    {
     "name": "stdout",
     "output_type": "stream",
     "text": [
      "[[29  0]\n",
      " [ 0 21]]\n",
      "             precision    recall  f1-score   support\n",
      "\n",
      "          x       1.00      1.00      1.00        29\n",
      "          y       1.00      1.00      1.00        21\n",
      "\n",
      "avg / total       1.00      1.00      1.00        50\n",
      "\n"
     ]
    },
    {
     "data": {
      "text/plain": [
       "<matplotlib.text.Text at 0x7f7ba8a1d390>"
      ]
     },
     "execution_count": 188,
     "metadata": {},
     "output_type": "execute_result"
    },
    {
     "data": {
      "image/png": "[encoded data removed]",
      "text/plain": [
       "<matplotlib.figure.Figure at 0x7f7ba8aefdd8>"
      ]
     },
     "metadata": {},
     "output_type": "display_data"
    }
   ],
   "source": [
    "dataset = np.loadtxt('mystery.csv', delimiter=\",\")\n",
    "data = dataset[:,0:2]\n",
    "for i in range(len(data[:,0])):\n",
    "    data[i,0] = abs(data[i,0])\n",
    "\n",
    "for j in range(len(data[:,0])):\n",
    "    data[j,1] = abs(data[j,1])\n",
    "\n",
    "target = dataset[:,2]\n",
    "\n",
    "xtrain, xtest, ytrain, ytest = train_test_split(data, target)\n",
    "\n",
    "mystery = Perceptron(n_iter=1)\n",
    "\n",
    "mystery.fit(xtrain, ytrain)\n",
    "ypred = mystery.predict(xtest)\n",
    "\n",
    "print(confusion_matrix(ytest, ypred))\n",
    "print(classification_report(ytest, ypred, target_names=['x','y']))\n",
    "plt.imshow(np.log(confusion_matrix(ytest, ypred)), cmap = 'PuRd', interpolation = 'nearest')\n",
    "plt.grid(False)\n",
    "plt.ylabel('true')\n",
    "plt.xlabel('predicted')"
   ]
  },
  {
   "cell_type": "code",
   "execution_count": 185,
   "metadata": {
    "collapsed": false
   },
   "outputs": [
    {
     "data": {
      "text/plain": [
       "<matplotlib.collections.PathCollection at 0x7f7ba8b31c88>"
      ]
     },
     "execution_count": 185,
     "metadata": {},
     "output_type": "execute_result"
    },
    {
     "data": {
      "image/png": "[encoded data removed]",
      "text/plain": [
       "<matplotlib.figure.Figure at 0x7f7ba8c74f28>"
      ]
     },
     "metadata": {},
     "output_type": "display_data"
    }
   ],
   "source": [
    "plt.scatter(data[:,0], data[:,1], c=dataset[:,2])"
   ]
  },
  {
   "cell_type": "code",
   "execution_count": 11,
   "metadata": {
    "collapsed": false
   },
   "outputs": [
    {
     "name": "stdout",
     "output_type": "stream",
     "text": [
      "             precision    recall  f1-score   support\n",
      "\n",
      "          0       0.90      1.00      0.95        38\n",
      "          1       0.83      0.88      0.85        43\n",
      "          2       0.92      0.89      0.90        37\n",
      "          3       0.95      0.91      0.93        46\n",
      "          4       0.95      0.93      0.94        56\n",
      "          5       0.89      1.00      0.94        42\n",
      "          6       1.00      1.00      1.00        45\n",
      "          7       0.92      0.94      0.93        50\n",
      "          8       0.90      0.79      0.84        48\n",
      "          9       0.95      0.89      0.92        45\n",
      "\n",
      "avg / total       0.92      0.92      0.92       450\n",
      "\n"
     ]
    }
   ],
   "source": [
    "dataset = datasets.load_digits()\n",
    "x, y = dataset.data, dataset.target\n",
    "xtrain, xtest, ytrain, ytest = train_test_split(x, y)\n",
    "\n",
    "thinker = Perceptron(n_iter=10000)\n",
    "thinker.fit(xtrain, ytrain)\n",
    "ypred = thinker.predict(xtest)\n",
    "print(classification_report(ytest, ypred))"
   ]
  },
  {
   "cell_type": "code",
   "execution_count": null,
   "metadata": {
    "collapsed": true
   },
   "outputs": [],
   "source": []
  }
 ],
 "metadata": {
  "kernelspec": {
   "display_name": "Python 3",
   "language": "python",
   "name": "python3"
  },
  "language_info": {
   "codemirror_mode": {
    "name": "ipython",
    "version": 3
   },
   "file_extension": ".py",
   "mimetype": "text/x-python",
   "name": "python",
   "nbconvert_exporter": "python",
   "pygments_lexer": "ipython3",
   "version": "3.4.0"
  }
 },
 "nbformat": 4,
 "nbformat_minor": 0
}
